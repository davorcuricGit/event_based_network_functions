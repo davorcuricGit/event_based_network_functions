{
 "cells": [
  {
   "cell_type": "code",
   "execution_count": 93,
   "metadata": {},
   "outputs": [],
   "source": [
    "import networkx as nx\n",
    "import os\n",
    "import pandas as pd\n",
    "import numpy as np\n",
    "import matplotlib.pyplot as plt\n",
    "import random\n",
    "\n",
    "def permute_edge_weights(G):\n",
    "    # Get the edge weights for each edge in the graph\n",
    "    weights = nx.get_edge_attributes(G, 'weight')\n",
    "    weights_shuffled = list(weights.values())\n",
    "    random.shuffle(weights_shuffled)\n",
    "    weights_shuffled = dict(zip(weights, weights_shuffled))\n",
    "    return weights_shuffled\n"
   ]
  },
  {
   "cell_type": "code",
   "execution_count": 188,
   "metadata": {},
   "outputs": [],
   "source": [
    "\n",
    "directory = '/Users/davorcuric/PhD/postdoc/events_based_network/'\n",
    "\n",
    "# Create an empty dictionary to store the graphs\n",
    "graphs = {}\n",
    "\n",
    "# Loop over the files in the directory\n",
    "for filename in os.listdir(directory):\n",
    "    # Check if the file has the correct extension\n",
    "    if filename.endswith('.gexf'):\n",
    "        # Load the graph from the file\n",
    "        graph = nx.read_gexf(os.path.join(directory, filename))\n",
    "        \n",
    "        # Add the graph to the dictionary with the filename as the key\n",
    "        graphs[filename.strip('.gexf')] = graph\n",
    "\n",
    "\n",
    "# Create a list of all the keys in the graphs dictionary\n",
    "keys = list(graphs.keys())\n",
    "# Create a Pandas DataFrame with one column 'keys' and populate it with the keys from the graphs dictionary\n",
    "df = pd.DataFrame({'keys': keys, 'case': [c[0:-1] for c in keys], 'hemi': [c[-1] for c in keys]})\n",
    "df = df.sort_values('keys')\n",
    "\n",
    "#get rid of self loops\n",
    "for key in df['keys']:\n",
    "    G = graphs[key]\n",
    "    G.remove_edges_from(nx.selfloop_edges(G))\n",
    "    graphs[key] = G\n",
    "\n",
    "#get rid of the 'left' 'right' node labels\n",
    "for key in df['keys']:\n",
    "    graphs[key] = nx.relabel_nodes(graphs[key], {node: node.split(' ')[0] for node in graphs[key].nodes()})\n",
    "\n",
    "#get the strongly connected components for each graph, make a new dictionary\n",
    "G_strong = {}\n",
    "for key in df['keys']:\n",
    "    nodes = max(nx.strongly_connected_components(graphs[key]), key=len)\n",
    "    G_strong[key] = graphs[key].subgraph(nodes).copy()\n",
    "\n",
    "# Find the subgraphs that only contains the common nodes in each graph\n",
    "inter = set.intersection(*[set(G.nodes()) for G in G_strong.values()])\n",
    "for key in df['keys']:\n",
    "    G_strong[key] = nx.subgraph(G_strong[key], inter)\n",
    "   "
   ]
  },
  {
   "cell_type": "code",
   "execution_count": 111,
   "metadata": {},
   "outputs": [],
   "source": [
    "#MAke sure each network has the same nodes\n",
    "# Create a new dictionary called 'graph_nodes' and populate it with the nodes from each graph in the graphs dictionary\n",
    "graph_nodes = dict((key, G_strong[key].nodes()) for key in G_strong)\n",
    "\n"
   ]
  },
  {
   "cell_type": "code",
   "execution_count": 210,
   "metadata": {},
   "outputs": [],
   "source": [
    "# Create a new column in the DataFrame called 'betweeness'\n",
    "#df['betweeness'] = np.nan  # initialize the column with NaN values\n",
    "\n",
    "# Loop over each key in the graphs dictionary\n",
    "for key in df['keys']:\n",
    "    # Load the graph from the dictionary using its key\n",
    "    G = G_strong[key]\n",
    "    \n",
    "    # Calculate the betweenness centrality of each node in the graph\n",
    "    betweeness_centrality_b = nx.betweenness_centrality(G, normalized=True)\n",
    "    betweeness_centrality_w = nx.betweenness_centrality(G, normalized=True, weight = lambda x,y,z: 1/z['weight'])\n",
    "    avg_shortest_path_b = nx.average_shortest_path_length(G)\n",
    "    avg_shortest_path_w = nx.average_shortest_path_length(G, weight = lambda x,y,z: 1/z['weight'])\n",
    "\n",
    "\n",
    "    # Get the edge weights for each edge in the graph\n",
    "    weights = list(nx.get_edge_attributes(G, 'weight').values())\n",
    "    df.loc[df['keys'] == key, 'weight_75th'] = np.percentile(weights, 75)\n",
    "    df.loc[df['keys'] == key, 'weight_25th'] = np.percentile(weights, 25)\n",
    "    df.loc[df['keys'] == key, 'weight min'] = np.min(weights)\n",
    "    df.loc[df['keys'] == key, 'weight max'] = np.max(weights)\n",
    "    \n",
    "    # Add the results as a new row to the DataFrame\n",
    "    df.loc[df['keys'] == key, 'betweeness_binary'] = np.median(list(betweeness_centrality_b.values()))\n",
    "    df.loc[df['keys'] == key, 'betweeness_weight'] = np.median(list(betweeness_centrality_w.values()))\n",
    "    df.loc[df['keys'] == key, 'avg_shortest_path_binary'] = avg_shortest_path_b\n",
    "    df.loc[df['keys'] == key, 'avg_shortest_path_weight'] = avg_shortest_path_w"
   ]
  },
  {
   "cell_type": "code",
   "execution_count": 211,
   "metadata": {},
   "outputs": [
    {
     "data": {
      "image/png": "[encoded data removed]",
      "text/plain": [
       "<Figure size 432x288 with 1 Axes>"
      ]
     },
     "metadata": {
      "needs_background": "light"
     },
     "output_type": "display_data"
    }
   ],
   "source": [
    "# get degree distribution for each graph\n",
    "for key in df['keys']:\n",
    "    # Load the graph from the dictionary using its key\n",
    "    G = G_strong[key]\n",
    "    weights = nx.get_edge_attributes(G, 'weight')\n",
    "    \n",
    "    # Create a histogram of the edge weights\n",
    "    plt.hist(weights.values(), bins=50)\n",
    "    "
   ]
  },
  {
   "cell_type": "code",
   "execution_count": 214,
   "metadata": {},
   "outputs": [],
   "source": [
    "keys = list(graphs.keys())\n",
    "df_surrogate = pd.DataFrame({'keys': keys, 'case': [c[0:-1] for c in keys], 'hemi': [c[-1] for c in keys]})\n",
    "df_surrogate = df_surrogate.sort_values('keys')\n",
    "\n",
    "#randomly permute edge weights\n",
    "G_surrogate = dict()\n",
    "\n",
    "for key in df_surrogate['keys']:\n",
    "    G = G_strong[key]\n",
    "    betweneess_trial = list()\n",
    "    avg_shortest_path_trial = list()\n",
    "    for trial in range(200):\n",
    "        weights_shuffled = permute_edge_weights(G)\n",
    "    \n",
    "        # Create a new graph with the randomly permuted weights\n",
    "        G_surr = nx.DiGraph()\n",
    "        G_surr.add_edges_from((u, v, {'weight': w}) for (u, v), w in weights_shuffled.items())\n",
    "\n",
    "        # Calculate the betweenness centrality of each node in the graph\n",
    "        betweeness_centrality = nx.betweenness_centrality(G_surr, normalized=True, weight = lambda x,y,z: 1/z['weight'])\n",
    "        avg_shortest_path = nx.average_shortest_path_length(G_surr, weight = lambda x,y,z: 1/z['weight'])\n",
    "        \n",
    "        betweneess_trial.append(np.mean(list(betweeness_centrality.values())))\n",
    "        avg_shortest_path_trial.append(avg_shortest_path)\n",
    "\n",
    "    # Add the results as a new row to the DataFrame\n",
    "    df_surrogate.loc[df_surrogate['keys'] == key, 'avg_betweeness'] = np.median(betweneess_trial)\n",
    "    df_surrogate.loc[df_surrogate['keys'] == key, 'std_betweeness'] = np.std(betweneess_trial)\n",
    "    df_surrogate.loc[df_surrogate['keys'] == key, 'real_betweeness'] =  df.loc[df['keys'] == key, 'betweeness_weight']\n",
    "    df_surrogate.loc[df_surrogate['keys'] == key, 'avg_avg_shortest_path'] = np.median(avg_shortest_path_trial)\n",
    "    df_surrogate.loc[df_surrogate['keys'] == key, 'std_avg_shortest_path'] = np.std(avg_shortest_path_trial)\n",
    "    df_surrogate.loc[df_surrogate['keys'] == key, 'real_avg_shortest_path'] =  df.loc[df['keys'] == key, 'avg_shortest_path_weight']\n",
    "    "
   ]
  },
  {
   "cell_type": "code",
   "execution_count": 215,
   "metadata": {},
   "outputs": [
    {
     "data": {
      "text/plain": [
       "<Axes: xlabel='keys'>"
      ]
     },
     "execution_count": 215,
     "metadata": {},
     "output_type": "execute_result"
    },
    {
     "data": {
      "image/png": "[encoded data removed]",
      "text/plain": [
       "<Figure size 432x288 with 1 Axes>"
      ]
     },
     "metadata": {
      "needs_background": "light"
     },
     "output_type": "display_data"
    },
    {
     "data": {
      "image/png": "[encoded data removed]",
      "text/plain": [
       "<Figure size 432x288 with 1 Axes>"
      ]
     },
     "metadata": {
      "needs_background": "light"
     },
     "output_type": "display_data"
    }
   ],
   "source": [
    "df_surrogate.plot.bar(x = 'keys', y=['avg_betweeness', 'real_betweeness'])\n",
    "df_surrogate.plot.bar(x = 'keys', y=['avg_avg_shortest_path', 'real_avg_shortest_path'])"
   ]
  }
 ],
 "metadata": {
  "kernelspec": {
   "display_name": "base",
   "language": "python",
   "name": "python3"
  },
  "language_info": {
   "codemirror_mode": {
    "name": "ipython",
    "version": 3
   },
   "file_extension": ".py",
   "mimetype": "text/x-python",
   "name": "python",
   "nbconvert_exporter": "python",
   "pygments_lexer": "ipython3",
   "version": "3.9.7"
  }
 },
 "nbformat": 4,
 "nbformat_minor": 2
}
